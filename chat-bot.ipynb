{
 "cells": [
  {
   "cell_type": "code",
   "execution_count": null,
   "metadata": {},
   "outputs": [],
   "source": [
    "# CPU版FAISSをインストール\n",
    "!pip install faiss-cpu\n",
    "\n",
    "!pip install langchain\n",
    "!pip install langchain-community\n",
    "!pip install sentence-transformers\n",
    "!pip install pypdf\n",
    "\n",
    "!pip install unstructured\n",
    "!pip install unstructured[local-inference]\n",
    "!pip install \"unstructured[pdf]\"\n"
   ]
  },
  {
   "cell_type": "markdown",
   "metadata": {},
   "source": [
    "# ベクトル化"
   ]
  },
  {
   "cell_type": "code",
   "execution_count": 1,
   "metadata": {},
   "outputs": [
    {
     "name": "stdout",
     "output_type": "stream",
     "text": [
      "DATA_DIR: /Users/iwamurahayato/myproject/0-tech-swat/astena-chatbot-mock/document\n",
      "STORAGE_DIR: /Users/iwamurahayato/myproject/0-tech-swat/astena-chatbot-mock/storage\n"
     ]
    },
    {
     "name": "stderr",
     "output_type": "stream",
     "text": [
      "/var/folders/p7/3cyzzk9534gcjt7smq4152xm0000gn/T/ipykernel_98314/3094298852.py:18: LangChainDeprecationWarning: The class `UnstructuredFileLoader` was deprecated in LangChain 0.2.8 and will be removed in 1.0. An updated version of the class exists in the :class:`~langchain-unstructured package and should be used instead. To use it run `pip install -U :class:`~langchain-unstructured` and import as `from :class:`~langchain_unstructured import UnstructuredLoader``.\n",
      "  loader = UnstructuredFileLoader(target_file)\n",
      "/Users/iwamurahayato/.pyenv/versions/3.12.5/lib/python3.12/site-packages/tqdm/auto.py:21: TqdmWarning: IProgress not found. Please update jupyter and ipywidgets. See https://ipywidgets.readthedocs.io/en/stable/user_install.html\n",
      "  from .autonotebook import tqdm as notebook_tqdm\n",
      "The PDF <_io.BufferedReader name='/Users/iwamurahayato/myproject/0-tech-swat/astena-chatbot-mock/document/ey-japan-info-sensor-2023-06-03.pdf'> contains a metadata field indicating that it should not allow text extraction. Ignoring this field and proceeding. Use the check_extractable if you want to raise an error in this case\n"
     ]
    },
    {
     "name": "stdout",
     "output_type": "stream",
     "text": [
      " 1 件のドキュメントを読み込みました\n",
      "10 個のチャンクに分割されました\n"
     ]
    },
    {
     "name": "stderr",
     "output_type": "stream",
     "text": [
      "/var/folders/p7/3cyzzk9534gcjt7smq4152xm0000gn/T/ipykernel_98314/3094298852.py:36: LangChainDeprecationWarning: The class `HuggingFaceEmbeddings` was deprecated in LangChain 0.2.2 and will be removed in 1.0. An updated version of the class exists in the :class:`~langchain-huggingface package and should be used instead. To use it run `pip install -U :class:`~langchain-huggingface` and import as `from :class:`~langchain_huggingface import HuggingFaceEmbeddings``.\n",
      "  embedding_model = HuggingFaceEmbeddings(model_name=\"intfloat/multilingual-e5-large\")\n"
     ]
    },
    {
     "name": "stdout",
     "output_type": "stream",
     "text": [
      "埋め込みモデル読み込み完了\n",
      "FAISSインデックス作成完了\n",
      "✅ インデックスを /Users/iwamurahayato/myproject/0-tech-swat/astena-chatbot-mock/storage に保存しました\n"
     ]
    }
   ],
   "source": [
    "# ▼ 2. パスの設定\n",
    "import os\n",
    "\n",
    "BASE_DIR = os.path.abspath(\"\")  # 現在のノートブックのディレクトリ\n",
    "DATA_DIR = os.path.join(BASE_DIR, \"document\")\n",
    "STORAGE_DIR = os.path.join(BASE_DIR, \"storage\")\n",
    "\n",
    "print(\"DATA_DIR:\", DATA_DIR)\n",
    "print(\"STORAGE_DIR:\", STORAGE_DIR)\n",
    "\n",
    "os.makedirs(STORAGE_DIR, exist_ok=True)\n",
    "\n",
    "# ▼ 3. データ読み込み\n",
    "from langchain_community.document_loaders import UnstructuredFileLoader\n",
    "\n",
    "target_file = os.path.join(DATA_DIR, \"ey-japan-info-sensor-2023-06-03.pdf\")\n",
    "\n",
    "loader = UnstructuredFileLoader(target_file)\n",
    "documents = loader.load()\n",
    "\n",
    "print(f\" {len(documents)} 件のドキュメントを読み込みました\")\n",
    "\n",
    "\n",
    "# ▼ 4. テキスト分割\n",
    "from langchain.text_splitter import RecursiveCharacterTextSplitter\n",
    "\n",
    "splitter = RecursiveCharacterTextSplitter(chunk_size=1000, chunk_overlap=200)\n",
    "split_texts = splitter.split_documents(documents)\n",
    "\n",
    "print(f\"{len(split_texts)} 個のチャンクに分割されました\")\n",
    "\n",
    "\n",
    "# ▼ 5. 埋め込みモデルを読み込む\n",
    "from langchain_community.embeddings.huggingface import HuggingFaceEmbeddings\n",
    "\n",
    "embedding_model = HuggingFaceEmbeddings(model_name=\"intfloat/multilingual-e5-large\")\n",
    "print(\"埋め込みモデル読み込み完了\")\n",
    "\n",
    "# ▼ 6. FAISSインデックス作成\n",
    "from langchain_community.vectorstores.faiss import FAISS\n",
    "\n",
    "index = FAISS.from_documents(documents=split_texts, embedding=embedding_model)\n",
    "print(\"FAISSインデックス作成完了\")\n",
    "\n",
    "# ▼ 8. インデックス保存\n",
    "index.save_local(folder_path=STORAGE_DIR)\n",
    "print(f\"インデックスを {STORAGE_DIR} に保存しました\")"
   ]
  },
  {
   "cell_type": "markdown",
   "metadata": {},
   "source": [
    "## ▼ 7. 検索テスト"
   ]
  },
  {
   "cell_type": "code",
   "execution_count": 2,
   "metadata": {},
   "outputs": [
    {
     "name": "stdout",
     "output_type": "stream",
     "text": [
      "\n",
      "--- 類似チャンク 1 ---\n",
      "土地など使用や時の経過を通じて価値が減少しないものをいい、減損処理を除いては、基本的 に費用配分は行われません。\n",
      "\n",
      "土地、美術品＊\n",
      "\n",
      "減耗性資産\n",
      "\n",
      "採掘あるいは採取されるにつれて漸次減耗し枯渇する天然資源をいい、全体としての用役を もって生産に役立つものではなく、採取されるに応じてその実態が部分的に製品化されるもの です（連続意見書第三 第一 六2参照）。\n",
      "\n",
      "鉱山や油田における埋蔵 資源、山林\n",
      "\n",
      "\n",
      "メタデータ: {'source': '/Users/iwamurahayato/myproject/0-tech-swat/astena-chatbot-mock/document/ey-japan-info-sensor-2023-06-03.pdf'}\n",
      "\n",
      "--- 類似チャンク 2 ---\n",
      "交換\n",
      "\n",
      "自己所有の固定資産と交換に固定資産を取得した場合には、交換に供された自己資産の適正な簿価をもって取得原価とする。 自己所有の株式ないし社債等と固定資産を交換した場合には、当該有価証券の時価又は適正な簿価をもって取得原価とする＊2。\n",
      "\n",
      "贈与\n",
      "\n",
      "固定資産を贈与された場合には、時価等を基準として公正に評価した額をもって取得原価とする。\n",
      "\n",
      "＊1　なお、企業会計基準第8号「ストック・オプション等に関\n",
      "メタデータ: {'source': '/Users/iwamurahayato/myproject/0-tech-swat/astena-chatbot-mock/document/ey-japan-info-sensor-2023-06-03.pdf'}\n"
     ]
    }
   ],
   "source": [
    "query = \"固定資産とは何ですか？\"\n",
    "results = index.similarity_search(query, k=2)\n",
    "\n",
    "for i, doc in enumerate(results, 1):\n",
    "    print(f\"\\n--- 類似チャンク {i} ---\")\n",
    "    print(doc.page_content[:200])\n",
    "    print(f\"メタデータ: {doc.metadata}\")"
   ]
  },
  {
   "cell_type": "code",
   "execution_count": null,
   "metadata": {},
   "outputs": [],
   "source": [
    "!pip install openai"
   ]
  },
  {
   "cell_type": "code",
   "execution_count": null,
   "metadata": {},
   "outputs": [],
   "source": [
    "# 1. 必要なライブラリのインポート\n",
    "from langchain.chains import RetrievalQA\n",
    "from langchain_core.prompts import PromptTemplate\n",
    "from langchain_openai import ChatOpenAI\n",
    "\n",
    "print(\"ライブラリインポート完了\")\n",
    "\n",
    "# 2. OpenAI APIキーの設定（ローカル環境向けに手動）\n",
    "import os\n",
    "from openai import AzureOpenAI\n",
    "client = AzureOpenAI(\n",
    "    api_version=\"2024-12-01-preview\",\n",
    "    endpoint=\"https://tech0-gpt-australiaeast.openai.azure.com/\",\n",
    "    credential=AzureKeyCredential(\"OPENAI_API_KEY\")\n",
    ")\n",
    "\n",
    "\n",
    "# 3. 保存済みFAISSインデックスを読み込み\n",
    "from langchain_community.vectorstores.faiss import FAISS\n",
    "\n",
    "embedding_model = HuggingFaceEmbeddings(\n",
    "    model_name=\"intfloat/multilingual-e5-large\"\n",
    ")\n",
    "\n",
    "index = FAISS.load_local(\n",
    "    folder_path=STORAGE_DIR,\n",
    "    embeddings=embedding_model,\n",
    "    allow_dangerous_deserialization=True\n",
    ")\n",
    "print(f\"インデックス読み込み完了（{index.index.ntotal} 個のベクトル）\")\n",
    "\n",
    "# 4. プロンプトテンプレートの作成\n",
    "question_prompt_template = \"\"\"以下のコンテキスト情報を参照して、質問に日本語で答えてください。\n",
    "コンテキストに関連する情報がない場合は、「提供された資料には該当する情報がありません」と回答してください。\n",
    "\n",
    "コンテキスト:\n",
    "{context}\n",
    "\n",
    "質問: {question}\n",
    "\n",
    "回答: \"\"\"\n",
    "\n",
    "QUESTION_PROMPT = PromptTemplate(\n",
    "    template=question_prompt_template,\n",
    "    input_variables=[\"context\", \"question\"]\n",
    ")\n",
    "print(\"プロンプトテンプレート作成完了\")\n",
    "\n",
    "# 5. LLM（ChatGPT）設定\n",
    "llm = ChatOpenAI(\n",
    "    model=\"gpt-3.5-turbo\",\n",
    "    temperature=0.3,\n",
    "    max_tokens=500\n",
    ")\n",
    "print(\"LLM設定完了\")\n",
    "\n",
    "# 6. RetrievalQA チェーン作成\n",
    "chain = RetrievalQA.from_chain_type(\n",
    "    llm=llm,\n",
    "    retriever=index.as_retriever(search_kwargs={'k': 2}),\n",
    "    chain_type_kwargs={\"prompt\": QUESTION_PROMPT},\n",
    "    chain_type=\"stuff\",\n",
    "    return_source_documents=True\n",
    ")\n",
    "print(\"RetrievalQA チェーン作成完了\")\n",
    "\n",
    "# 7. テスト実行\n",
    "test_questions = [\n",
    "    \"RAGとは何ですか？\",\n",
    "    \"ファインチューニングとRAGの違いは？\",\n",
    "    \"RAGの手順を教えてください\"\n",
    "]\n",
    "\n",
    "for i, question in enumerate(test_questions, 1):\n",
    "    print(f\"\\n--- テスト {i} ---\")\n",
    "    print(f\"質問: {question}\")\n",
    "    try:\n",
    "        response = chain.invoke({\"query\": question})\n",
    "        print(f\"回答: {response['result']}\")\n",
    "        print(\"参照されたチャンク:\")\n",
    "        for j, source in enumerate(response[\"source_documents\"], 1):\n",
    "            print(f\"   {j}. {source.page_content[:80]}...\")\n",
    "    except Exception as e:\n",
    "        print(f\"エラー: {e}\")"
   ]
  }
 ],
 "metadata": {
  "kernelspec": {
   "display_name": "Python 3",
   "language": "python",
   "name": "python3"
  },
  "language_info": {
   "codemirror_mode": {
    "name": "ipython",
    "version": 3
   },
   "file_extension": ".py",
   "mimetype": "text/x-python",
   "name": "python",
   "nbconvert_exporter": "python",
   "pygments_lexer": "ipython3",
   "version": "3.12.5"
  }
 },
 "nbformat": 4,
 "nbformat_minor": 2
}
